{
 "cells": [
  {
   "cell_type": "code",
   "execution_count": 1,
   "metadata": {},
   "outputs": [
    {
     "name": "stdout",
     "output_type": "stream",
     "text": [
      "Hello Python\n"
     ]
    }
   ],
   "source": [
    "# 1) Write a Python program to print \"Hello Python\"?\n",
    "\n",
    "\n",
    "print('Hello Python')"
   ]
  },
  {
   "cell_type": "code",
   "execution_count": 4,
   "metadata": {},
   "outputs": [
    {
     "data": {
      "text/plain": [
       "85"
      ]
     },
     "execution_count": 4,
     "metadata": {},
     "output_type": "execute_result"
    }
   ],
   "source": [
    "# 6) Write a Python program to generate a random number?\n",
    "\n",
    "import random\n",
    "\n",
    "number = random.randint(0,100)\n",
    "\n",
    "number"
   ]
  },
  {
   "cell_type": "code",
   "execution_count": 7,
   "metadata": {},
   "outputs": [
    {
     "name": "stdout",
     "output_type": "stream",
     "text": [
      "enter triangle height : 10\n",
      "enter triangle base : 10\n",
      "50.0\n"
     ]
    }
   ],
   "source": [
    "# 3) Write a Python program to find the area of a triangle?\n",
    "\n",
    "height = int(input('enter triangle height : '))\n",
    "base = int(input('enter triangle base : '))\n",
    "\n",
    "area_triangle = (height*base)/2\n",
    "\n",
    "print(area_triangle)"
   ]
  },
  {
   "cell_type": "code",
   "execution_count": 12,
   "metadata": {},
   "outputs": [
    {
     "name": "stdout",
     "output_type": "stream",
     "text": [
      "enter a number: 50\n",
      "enter a number: 50\n",
      "100\n",
      "1.0\n"
     ]
    }
   ],
   "source": [
    "# 2) Write a Python program to do arithmetical operations addition and division.?\n",
    "\n",
    "num1 = int(input('enter a number: '))\n",
    "num2 = int(input('enter a number: '))\n",
    "\n",
    "addition = num1 + num2\n",
    "\n",
    "division = num2 / num1\n",
    "\n",
    "\n",
    "print(addition)\n",
    "\n",
    "print(division)"
   ]
  },
  {
   "cell_type": "code",
   "execution_count": 14,
   "metadata": {},
   "outputs": [
    {
     "name": "stdout",
     "output_type": "stream",
     "text": [
      "20\n",
      "10\n"
     ]
    }
   ],
   "source": [
    "# 5) Write a Python program to swap two variables?\n",
    "\n",
    "a = 10\n",
    "b = 20\n",
    "\n",
    "temp = a\n",
    "a=b\n",
    "b=temp\n",
    "\n",
    "print(a)\n",
    "print(b)"
   ]
  },
  {
   "cell_type": "code",
   "execution_count": null,
   "metadata": {},
   "outputs": [],
   "source": []
  }
 ],
 "metadata": {
  "kernelspec": {
   "display_name": "Python 3",
   "language": "python",
   "name": "python3"
  },
  "language_info": {
   "codemirror_mode": {
    "name": "ipython",
    "version": 3
   },
   "file_extension": ".py",
   "mimetype": "text/x-python",
   "name": "python",
   "nbconvert_exporter": "python",
   "pygments_lexer": "ipython3",
   "version": "3.8.5"
  }
 },
 "nbformat": 4,
 "nbformat_minor": 4
}
